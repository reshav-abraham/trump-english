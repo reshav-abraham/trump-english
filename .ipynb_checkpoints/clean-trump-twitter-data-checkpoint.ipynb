{
 "cells": [
  {
   "cell_type": "code",
   "execution_count": 2,
   "metadata": {},
   "outputs": [],
   "source": [
    "import pandas as pd\n",
    "import re"
   ]
  },
  {
   "cell_type": "code",
   "execution_count": 127,
   "metadata": {},
   "outputs": [
    {
     "data": {
      "text/html": [
       "<div>\n",
       "<style scoped>\n",
       "    .dataframe tbody tr th:only-of-type {\n",
       "        vertical-align: middle;\n",
       "    }\n",
       "\n",
       "    .dataframe tbody tr th {\n",
       "        vertical-align: top;\n",
       "    }\n",
       "\n",
       "    .dataframe thead th {\n",
       "        text-align: right;\n",
       "    }\n",
       "</style>\n",
       "<table border=\"1\" class=\"dataframe\">\n",
       "  <thead>\n",
       "    <tr style=\"text-align: right;\">\n",
       "      <th></th>\n",
       "      <th>0</th>\n",
       "      <th>1</th>\n",
       "      <th>2</th>\n",
       "      <th>3</th>\n",
       "    </tr>\n",
       "  </thead>\n",
       "  <tbody>\n",
       "    <tr>\n",
       "      <th>2</th>\n",
       "      <td>February 27, 2018 at 01:45PM</td>\n",
       "      <td>@realDonaldTrump</td>\n",
       "      <td>“We’ve seen NO EVIDENCE OF COLLUSION....I have...</td>\n",
       "      <td>http://twitter.com/realDonaldTrump/status/9684...</td>\n",
       "    </tr>\n",
       "  </tbody>\n",
       "</table>\n",
       "</div>"
      ],
      "text/plain": [
       "                              0                 1  \\\n",
       "2  February 27, 2018 at 01:45PM  @realDonaldTrump   \n",
       "\n",
       "                                                   2  \\\n",
       "2  “We’ve seen NO EVIDENCE OF COLLUSION....I have...   \n",
       "\n",
       "                                                   3  \n",
       "2  http://twitter.com/realDonaldTrump/status/9684...  "
      ]
     },
     "execution_count": 127,
     "metadata": {},
     "output_type": "execute_result"
    }
   ],
   "source": [
    "data_file=\"../Tweets_by_@realDonaldTrump.xlsx\"\n",
    "#with open(data_file, \"r\") as file:\n",
    "#    file.read()\n",
    "df = pd.read_excel(data_file, header=None)\n",
    "df.loc[[2]]"
   ]
  },
  {
   "cell_type": "code",
   "execution_count": 128,
   "metadata": {},
   "outputs": [],
   "source": [
    "tweets = df[[2]]"
   ]
  },
  {
   "cell_type": "code",
   "execution_count": 129,
   "metadata": {},
   "outputs": [],
   "source": [
    "# if all text in quotes, trump is quoting someone\n",
    "# remove links and twitter language\n",
    "# remove text if it starts with RT"
   ]
  },
  {
   "cell_type": "code",
   "execution_count": 130,
   "metadata": {},
   "outputs": [],
   "source": [
    "def quote_check(phrase):\n",
    "    split_words = phrase.split()\n",
    "    quote_start = False\n",
    "    quote_count = 0\n",
    "    for word in split_words:\n",
    "        if '“' in word or \"'\" in word:\n",
    "            quote_start = True\n",
    "\n",
    "        if quote_start and ('\"' in word or \"'\" in word):\n",
    "            quote_count += 1\n",
    "            quote_start = False\n",
    "\n",
    "        if quote_start:\n",
    "            quote_count += 1\n",
    "    return (quote_count / len(split_words)) > 0.25"
   ]
  },
  {
   "cell_type": "code",
   "execution_count": 145,
   "metadata": {},
   "outputs": [],
   "source": [
    "phrase_text = \"\"\n",
    "for idx, text in enumerate(tweets.values):\n",
    "    text = text[0]\n",
    "    if text[:2] == \"RT\":\n",
    "        continue\n",
    "    if quote_check(text):\n",
    "        continue\n",
    "    text = re.sub(\"\\n+\", \"\", text)\n",
    "    text = re.sub(\"https:.*\", \"\", text)\n",
    "    text = re.sub(\"\\s\\&amp;\", \";\", text)\n",
    "    text = re.sub(\"#[^\\s]+\", \"<subject>\", text)\n",
    "    text = re.sub(\"@[^\\s]+\", \"<person>\", text) # remove user link\n",
    "    \n",
    "    if len(text.lstrip().rstrip()) and len(text.split()) >= 2 and \"<subject>\" not in text:\n",
    "        phrase_text += text + \"\\n\""
   ]
  },
  {
   "cell_type": "code",
   "execution_count": 146,
   "metadata": {},
   "outputs": [],
   "source": [
    "with open(\"trump_corpus.txt\", \"w\") as file:\n",
    "    file.write(phrase_text)"
   ]
  }
 ],
 "metadata": {
  "kernelspec": {
   "display_name": "Python 3",
   "language": "python",
   "name": "python3"
  },
  "language_info": {
   "codemirror_mode": {
    "name": "ipython",
    "version": 3
   },
   "file_extension": ".py",
   "mimetype": "text/x-python",
   "name": "python",
   "nbconvert_exporter": "python",
   "pygments_lexer": "ipython3",
   "version": "3.7.4"
  }
 },
 "nbformat": 4,
 "nbformat_minor": 4
}
