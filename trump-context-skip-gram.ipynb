{
 "cells": [
  {
   "cell_type": "code",
   "execution_count": 49,
   "metadata": {},
   "outputs": [],
   "source": [
    "from gensim.models import Word2Vec\n",
    "import multiprocessing\n",
    "from nltk import word_tokenize\n",
    "from nltk.corpus import stopwords \n",
    "import re\n",
    "stop_words = set(stopwords.words('english')) "
   ]
  },
  {
   "cell_type": "code",
   "execution_count": 59,
   "metadata": {},
   "outputs": [],
   "source": [
    "with open(\"trump_corpus.txt\", \"r\") as file:\n",
    "    line_list = []\n",
    "    for line in file.readlines():\n",
    "        clean_line = re.sub(\"[^\\w\\s]\", \"\", line).lower()\n",
    "        word_list = word_tokenize(clean_line)\n",
    "        filtered_sentence = [w for w in word_list if not w in stop_words] \n",
    "        line_list.append(filtered_sentence)"
   ]
  },
  {
   "cell_type": "code",
   "execution_count": 61,
   "metadata": {},
   "outputs": [],
   "source": [
    "w2v = Word2Vec(line_list, size=300, window=5, min_count=5, negative=15, iter=10, workers=multiprocessing.cpu_count())"
   ]
  },
  {
   "cell_type": "code",
   "execution_count": 74,
   "metadata": {},
   "outputs": [
    {
     "data": {
      "text/plain": [
       "[('deal', 0.9998780488967896),\n",
       " ('countries', 0.9998719096183777),\n",
       " ('deals', 0.9998433589935303),\n",
       " ('many', 0.9998315572738647),\n",
       " ('years', 0.9998309016227722),\n",
       " ('us', 0.9998304843902588),\n",
       " ('war', 0.9998205900192261),\n",
       " ('farmers', 0.9998183250427246),\n",
       " ('fair', 0.9998122453689575),\n",
       " ('massive', 0.9998058080673218)]"
      ]
     },
     "execution_count": 74,
     "metadata": {},
     "output_type": "execute_result"
    }
   ],
   "source": [
    "word_vectors = w2v.wv\n",
    "word_vectors.similar_by_word(\"china\")"
   ]
  }
 ],
 "metadata": {
  "kernelspec": {
   "display_name": "Python 3",
   "language": "python",
   "name": "python3"
  },
  "language_info": {
   "codemirror_mode": {
    "name": "ipython",
    "version": 3
   },
   "file_extension": ".py",
   "mimetype": "text/x-python",
   "name": "python",
   "nbconvert_exporter": "python",
   "pygments_lexer": "ipython3",
   "version": "3.7.6"
  }
 },
 "nbformat": 4,
 "nbformat_minor": 4
}
